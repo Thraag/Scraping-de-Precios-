{
 "cells": [
  {
   "cell_type": "code",
   "execution_count": 1,
   "metadata": {},
   "outputs": [],
   "source": [
    "import pandas as pd\n",
    "from selenium import webdriver\n",
    "from selenium.webdriver.chrome.options import Options\n",
    "from selenium.webdriver.common.by import By  # Importa la clase By\n",
    "from time import sleep\n",
    "import random\n",
    "from selenium.webdriver.common.keys import Keys\n"
   ]
  },
  {
   "cell_type": "code",
   "execution_count": 2,
   "metadata": {},
   "outputs": [],
   "source": [
    "df = pd.read_excel('C:/Users/9988/Desktop/cartas.xlsx', header=0)"
   ]
  },
  {
   "cell_type": "code",
   "execution_count": 3,
   "metadata": {},
   "outputs": [],
   "source": [
    "options = Options()\n",
    "options.binary_location = r'C:\\Program Files\\Google\\Chrome\\Application\\chrome.exe'\n",
    "driver = webdriver.Chrome(options=options)\n",
    "driver.get(\"https://www.google.com/\")"
   ]
  },
  {
   "cell_type": "code",
   "execution_count": 4,
   "metadata": {},
   "outputs": [
    {
     "name": "stdout",
     "output_type": "stream",
     "text": [
      "Nombres de las columnas: Index(['Carta', 'PrecioCLP'], dtype='object')\n"
     ]
    }
   ],
   "source": [
    "\n",
    "# Imprime los nombres de las columnas para verificar\n",
    "print(\"Nombres de las columnas:\", df.columns)"
   ]
  },
  {
   "cell_type": "code",
   "execution_count": 5,
   "metadata": {},
   "outputs": [],
   "source": [
    "cartas_diferencia_precio = []"
   ]
  },
  {
   "cell_type": "code",
   "execution_count": 6,
   "metadata": {},
   "outputs": [
    {
     "name": "stdout",
     "output_type": "stream",
     "text": [
      "La carta es más cara ahora, +5.00 USD\n",
      "La carta es más barata ahora, -0.24 USD\n"
     ]
    }
   ],
   "source": [
    "# Revisa si los nombres de las columnas son correctos\n",
    "if 'Carta' in df.columns and 'PrecioCLP' in df.columns:\n",
    "    for index, row in df.iterrows():\n",
    "        cartaquetenemos = row['Carta']\n",
    "        preciodelacartaenCLP = row['PrecioCLP']\n",
    "        preciodelacartaenUSD = preciodelacartaenCLP / 1000  # Conversión a USD\n",
    "\n",
    "        # Busca la carta en el navegador\n",
    "        username_input = driver.find_element(By.XPATH, '//*[@id=\"APjFqb\"]')\n",
    "        username_input.send_keys(cartaquetenemos + \" starcitygames\" + Keys.RETURN)\n",
    "        sleep(5)\n",
    "\n",
    "        primeraopcion = driver.find_element(By.XPATH, '//h3[contains(@class, \"LC20lb MBeuO DKV0Md\")]')\n",
    "        primeraopcion.click()\n",
    "        sleep(5)\n",
    "\n",
    "        # Extrae el texto del elemento y elimina el símbolo $\n",
    "        preciocartagringos_text = driver.find_element(By.XPATH, '//span[contains(@class, \"price price--withoutTax\")]').text.replace(\"$\", \"\")\n",
    "\n",
    "        # Convierte el texto a float\n",
    "        preciocartagringos_float = float(preciocartagringos_text)\n",
    "\n",
    "        # Compara los precios\n",
    "        diferencia = preciocartagringos_float - preciodelacartaenUSD\n",
    "\n",
    "        if diferencia == 0:\n",
    "            mensaje = \"Las cartas valen lo mismo, seguimos con la siguiente carta\"\n",
    "        else:\n",
    "            if diferencia > 0:\n",
    "                mensaje = f\"La carta es más cara ahora, +{diferencia:.2f} USD\"\n",
    "            else:\n",
    "                mensaje = f\"La carta es más barata ahora, {diferencia:.2f} USD\"\n",
    "\n",
    "            cartas_diferencia_precio.append((cartaquetenemos, mensaje))\n",
    "            print(mensaje)\n",
    "\n",
    "        # Actualiza el DataFrame con el precio en USD y la diferencia\n",
    "        df.at[index, 'PrecioUSD'] = preciodelacartaenUSD\n",
    "        df.at[index, 'Diferencia'] = mensaje\n",
    "\n",
    "        # Navega a Google para seguir con la siguiente carta\n",
    "        driver.get(\"https://www.google.com\")\n",
    "        sleep(5)  # Asegúrate de que la página se carga correctamente\n",
    "\n",
    "\n",
    "\n",
    "\n",
    "\n",
    "# Cierra el navegador al final\n",
    "driver.quit()\n",
    "\n",
    "# Guarda los resultados actualizados en un nuevo archivo Excel\n",
    "df.to_excel('C:/Users/9988/Desktop/cartas_actualizadas.xlsx', index=False)\n",
    "\n",
    "# Exporta la lista de cartas con diferencia de precio a un archivo de texto\n",
    "with open('C:/Users/9988/Desktop/diferencia_precio_cartas.txt', 'w') as file:\n",
    "    for carta, mensaje in cartas_diferencia_precio:\n",
    "        file.write(f\"{carta}: {mensaje}\\n\")\n"
   ]
  }
 ],
 "metadata": {
  "kernelspec": {
   "display_name": "Python 3",
   "language": "python",
   "name": "python3"
  },
  "language_info": {
   "codemirror_mode": {
    "name": "ipython",
    "version": 3
   },
   "file_extension": ".py",
   "mimetype": "text/x-python",
   "name": "python",
   "nbconvert_exporter": "python",
   "pygments_lexer": "ipython3",
   "version": "3.12.0"
  }
 },
 "nbformat": 4,
 "nbformat_minor": 2
}
